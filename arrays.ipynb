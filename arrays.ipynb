{
 "cells": [
  {
   "cell_type": "markdown",
   "metadata": {},
   "source": [
    "# Arrays"
   ]
  },
  {
   "cell_type": "markdown",
   "metadata": {},
   "source": [
    "arr[i] = x\n",
    "\n",
    "* arr: variable name\n",
    "* i: index\n",
    "* x: element value\n",
    "\n",
    "Properties:\n",
    "* elements placed in order, 0 < i < (len(arr) - 1)\n",
    "* contiguous memory\n",
    "* usually same type elements\n",
    "* 2D array has rows and columns"
   ]
  },
  {
   "cell_type": "markdown",
   "metadata": {},
   "source": [
    "#### Access"
   ]
  },
  {
   "cell_type": "code",
   "execution_count": 27,
   "metadata": {},
   "outputs": [
    {
     "name": "stdout",
     "output_type": "stream",
     "text": [
      "54\n"
     ]
    }
   ],
   "source": [
    "# best, worst, avg = O(1)\n",
    "i = 3\n",
    "arr = [18, 33, 44, 54]\n",
    "print(arr[i])"
   ]
  },
  {
   "cell_type": "markdown",
   "metadata": {},
   "source": [
    "#### Search"
   ]
  },
  {
   "cell_type": "code",
   "execution_count": 55,
   "metadata": {},
   "outputs": [
    {
     "name": "stdout",
     "output_type": "stream",
     "text": [
      "Index: 1, Item: 11\n",
      "Index: 3, Item: 31\n"
     ]
    }
   ],
   "source": [
    "# best = O(1)\n",
    "val = 11\n",
    "arr = [1, 11, 28, 31, 42]\n",
    "\n",
    "for i, item in enumerate(arr):\n",
    "    if item == val:\n",
    "        print(\"Index: \" + str(i) + \", Item: \" + str(item))\n",
    "        break\n",
    "\n",
    "# worst, avg = O(n)\n",
    "val = 31\n",
    "arr = [0, 11, 28, 31, 42, 43]\n",
    "\n",
    "for i, item in enumerate(arr):\n",
    "    if item == val:\n",
    "        print(\"Index: \" + str(i) + \", Item: \" + str(item))\n",
    "        break"
   ]
  },
  {
   "cell_type": "markdown",
   "metadata": {},
   "source": [
    "#### Insert"
   ]
  },
  {
   "cell_type": "code",
   "execution_count": 69,
   "metadata": {},
   "outputs": [
    {
     "name": "stdout",
     "output_type": "stream",
     "text": [
      "[1, 3, 5, 9, 24]\n",
      "[3, 8, 10, 13, 12, 14]\n"
     ]
    }
   ],
   "source": [
    "# best = O(1) @ end\n",
    "val = 24\n",
    "arr = [1, 3, 5, 9, None]\n",
    "arr[len(arr)-1] = 24\n",
    "print(arr)\n",
    "\n",
    "# worst, avg = O(n) (need to shift)\n",
    "idx = 4\n",
    "val = 12\n",
    "arr = [3, 8, 10, 13, 14]\n",
    "new_arr = [0] * (len(arr)+1)\n",
    "i = 0\n",
    "j = 0\n",
    "while i < len(arr):\n",
    "    if i == idx:\n",
    "        new_arr[j] = val\n",
    "        new_arr[j+1] = arr[i]\n",
    "        i += 1\n",
    "        j += 2\n",
    "    else:\n",
    "        new_arr[j] = arr[i]\n",
    "        i += 1\n",
    "        j += 1\n",
    "\n",
    "arr = new_arr\n",
    "print(arr)"
   ]
  },
  {
   "cell_type": "markdown",
   "metadata": {},
   "source": [
    "#### Remove"
   ]
  },
  {
   "cell_type": "code",
   "execution_count": 84,
   "metadata": {},
   "outputs": [
    {
     "name": "stdout",
     "output_type": "stream",
     "text": [
      "[1, 3, 5, 7]\n",
      "[1, 4, 8, 10]\n"
     ]
    }
   ],
   "source": [
    "# best = O(1) @ end\n",
    "arr = [1, 3, 5, 7, 9]\n",
    "arr = arr[:-1]\n",
    "print(arr)\n",
    "\n",
    "# worst, avg = O(n) (need to shift)\n",
    "idx = 2\n",
    "arr = [1, 4, 6, 8, 10]\n",
    "new_arr = [0] * (len(arr)-1)\n",
    "i = 0\n",
    "j = 0\n",
    "while i < len(arr):\n",
    "    if i == idx:\n",
    "        new_arr[j] = arr[i+1]\n",
    "        i += 2\n",
    "        j += 1\n",
    "    else:\n",
    "        new_arr[j] = arr[i]\n",
    "        i += 1\n",
    "        j += 1\n",
    "\n",
    "arr = new_arr\n",
    "print(arr)"
   ]
  }
 ],
 "metadata": {
  "kernelspec": {
   "display_name": "Python 3",
   "language": "python",
   "name": "python3"
  },
  "language_info": {
   "codemirror_mode": {
    "name": "ipython",
    "version": 3
   },
   "file_extension": ".py",
   "mimetype": "text/x-python",
   "name": "python",
   "nbconvert_exporter": "python",
   "pygments_lexer": "ipython3",
   "version": "3.12.5"
  }
 },
 "nbformat": 4,
 "nbformat_minor": 2
}
