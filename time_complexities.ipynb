{
 "cells": [
  {
   "cell_type": "markdown",
   "metadata": {},
   "source": [
    "# Time Complexities"
   ]
  },
  {
   "cell_type": "markdown",
   "metadata": {},
   "source": [
    "## Data Structures"
   ]
  },
  {
   "cell_type": "markdown",
   "metadata": {},
   "source": [
    "#### Best Case"
   ]
  },
  {
   "cell_type": "markdown",
   "metadata": {},
   "source": [
    "| Data Structure | Access | Search | Insert   | Remove    |\n",
    "| :------------: | :----: | :----: | :------: | :-------: |\n",
    "| Array          | O(1)   | O(1)   | O(1)     | O(1)      |\n",
    "| Stack          | O(1)   | O(1)   | O(1)     | O(1)      |\n",
    "| Queue          | O(1)   | O(1)   | O(1)     | O(1)      |\n",
    "| Singly Linked List | O(1) | O(1) | O(1)     | O(1)      |\n",
    "| Doubly Linked List | O(1) | O(1) | O(1)     | O(1)      |\n",
    "| Hash Table     | O(1)   | O(1)   | O(1)     | O(1)      |\n",
    "| Binary Search Tree | O(log n) | O(log n) | O(log n) | O(log n) |\n",
    "| AVL Tree | O(log n) | O(log n) | O(log n) | O(log n) |\n",
    "| B Tree | O(log n) | O(log n) | O(log n) | O(log n) |\n",
    "| Red Black Tree | O(log n) | O(log n) | O(log n) | O(log n) |"
   ]
  },
  {
   "cell_type": "markdown",
   "metadata": {},
   "source": [
    "#### Worst Case"
   ]
  },
  {
   "cell_type": "markdown",
   "metadata": {},
   "source": [
    "| Data Structure | Access | Search | Insert   | Remove    |\n",
    "| :------------: | :----: | :----: | :------: | :-------: |\n",
    "| Array          | O(1)   | O(n)   | O(n)     | O(n)      |\n",
    "| Stack          | O(n)   | O(n)   | O(1)     | O(1)      |\n",
    "| Queue          | O(n)   | O(n)   | O(1)     | O(1)      |\n",
    "| Singly Linked List | O(n) | O(n) | O(n)     | O(n)      |\n",
    "| Doubly Linked List | O(n) | O(n) | O(1)     | O(1)      |\n",
    "| Hash Table     | O(n)   | O(n)   | O(n)     | O(n)      |\n",
    "| Binary Search Tree | O(n) | O(n) | O(n)     | O(n)      |\n",
    "| AVL Tree | O(log n) | O(log n)   | O(log n) | O(log n)  |\n",
    "| B Tree         | O(n)   | O(n)   | O(n)     | O(n)      |\n",
    "| Red Black Tree | O(log n) | O(log n) | O(log n) | O(log n) |"
   ]
  },
  {
   "cell_type": "markdown",
   "metadata": {},
   "source": [
    "#### Avg Case"
   ]
  },
  {
   "cell_type": "markdown",
   "metadata": {},
   "source": [
    "| Data Structure | Access | Search | Insert   | Remove    |\n",
    "| :------------: | :----: | :----: | :------: | :-------: |\n",
    "| Array          | O(1)   | O(n)   | O(n)     | O(n)      |\n",
    "| Stack          | O(n)   | O(n)   | O(1)     | O(1)      |\n",
    "| Queue          | O(n)   | O(n)   | O(1)     | O(1)      |\n",
    "| Singly Linked List | O(n) | O(n) | O(1)     | O(1)      |\n",
    "| Doubly Linked List | O(n) | O(n) | O(1)     | O(1)      |\n",
    "| Hash Table     | O(1)   | O(1)   | O(1)     | O(1)      |\n",
    "| Binary Search Tree | O(log n) | O(log n) | O(log n) | O(log n) |\n",
    "| AVL Tree | O(log n) | O(log n)   | O(log n) | O(log n)  |\n",
    "| B Tree         | O(log n) | O(log n) | O(log n) | O(log n) |\n",
    "| Red Black Tree | O(log n) | O(log n) | O(log n) | O(log n) |"
   ]
  },
  {
   "cell_type": "markdown",
   "metadata": {},
   "source": [
    "## Algorithms"
   ]
  },
  {
   "cell_type": "markdown",
   "metadata": {},
   "source": [
    "| Algorithm | Time Complexity | | | Space Complexity |\n",
    "| :-------: | :--: | :-: | :---: | :---------------: |\n",
    "|           | Best | Avg | Worst | Worst             |\n",
    "| Bubble Sort | O(n) | O($n^2$) | O($n^2$) | O(1)    |\n",
    "| Insertion Sort | O(n) | O($n^2$) | O($n^2$) | O(1) |\n",
    "| Selection Sort | O($n^2$) | O($n^2$) | O($n^2$) | O(1) |\n",
    "| Counting Sort | O(n + k) | O(n + k) | O(n + k) | O(k) |\n",
    "| Quick Sort | O(n log n) | O(n log n) | O($n^2$) | O(n) |\n",
    "| Merge Sort | O(n log n) | O(n log n) | O(n log n)| O(n) |\n",
    "| Heap Sort | O(n log n) | O(n log n) | O(n log n)| O(1) |\n",
    "| Radix Sort | O(nk) | O(nk) | O(nk) | O(n + k)      | \n",
    "| Bucket Sort | O(n + k) | O(n + k) | O($n^2$) | O(n) |"
   ]
  }
 ],
 "metadata": {
  "language_info": {
   "name": "python"
  }
 },
 "nbformat": 4,
 "nbformat_minor": 2
}
