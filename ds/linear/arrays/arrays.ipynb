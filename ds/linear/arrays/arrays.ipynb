{
 "cells": [
  {
   "cell_type": "markdown",
   "metadata": {},
   "source": [
    "# Arrays"
   ]
  },
  {
   "cell_type": "markdown",
   "metadata": {},
   "source": [
    "arr[i] = x\n",
    "\n",
    "* arr: variable name\n",
    "* i: index\n",
    "* x: element value\n",
    "\n",
    "Properties:\n",
    "* linear\n",
    "* elements placed in order, 0 < i < (len(arr) - 1)\n",
    "* contiguous memory\n",
    "* usually same type elements\n",
    "* 2D array has rows and columns"
   ]
  },
  {
   "cell_type": "markdown",
   "metadata": {},
   "source": [
    "#### Access"
   ]
  },
  {
   "cell_type": "code",
   "execution_count": 27,
   "metadata": {},
   "outputs": [
    {
     "name": "stdout",
     "output_type": "stream",
     "text": [
      "54\n"
     ]
    }
   ],
   "source": [
    "# best, worst, avg = O(1)\n",
    "i = 3\n",
    "arr = [18, 33, 44, 54]\n",
    "print(arr[i])"
   ]
  },
  {
   "cell_type": "markdown",
   "metadata": {},
   "source": [
    "#### Search"
   ]
  },
  {
   "cell_type": "code",
   "execution_count": 15,
   "metadata": {},
   "outputs": [
    {
     "name": "stdout",
     "output_type": "stream",
     "text": [
      "0\n",
      "3\n"
     ]
    }
   ],
   "source": [
    "def find(arr, val):\n",
    "    # best = O(1) @ beginning\n",
    "    # worst, avg = O(n)\n",
    "    for i, item in enumerate(arr):\n",
    "        if item == val:\n",
    "            return i\n",
    "\n",
    "val = 1\n",
    "arr = [1, 11, 28, 31, 42]\n",
    "print(find(arr, val))\n",
    "\n",
    "val = 31\n",
    "arr = [0, 11, 28, 31, 42, 43]\n",
    "print(find(arr, val))"
   ]
  },
  {
   "cell_type": "markdown",
   "metadata": {},
   "source": [
    "#### Insert"
   ]
  },
  {
   "cell_type": "code",
   "execution_count": 18,
   "metadata": {},
   "outputs": [
    {
     "name": "stdout",
     "output_type": "stream",
     "text": [
      "[1, 3, 5, 9, 24]\n",
      "[3, 8, 10, 13, 12]\n"
     ]
    }
   ],
   "source": [
    "def insert(arr, idx, val):\n",
    "    # best = O(1) @ end\n",
    "    if idx == len(arr)-1:\n",
    "        arr[idx] = val\n",
    "        return arr\n",
    "    # worst, avg = O(n) (need to shift)\n",
    "    elif idx < len(arr):\n",
    "        new_arr = [0] * (len(arr)+1)\n",
    "        i = 0\n",
    "        j = 0\n",
    "        while i < len(arr):\n",
    "            if i == idx:\n",
    "                new_arr[j] = val\n",
    "                new_arr[j+1] = arr[i]\n",
    "                i += 1\n",
    "                j += 2\n",
    "            else:\n",
    "                new_arr[j] = arr[i]\n",
    "                i += 1\n",
    "                j += 1\n",
    "\n",
    "        arr = new_arr\n",
    "        return arr\n",
    "    else:\n",
    "        return\n",
    "\n",
    "idx = 4\n",
    "val = 24\n",
    "arr = [1, 3, 5, 9, None]\n",
    "print(insert(arr, idx, val))\n",
    "\n",
    "idx = 4\n",
    "val = 12\n",
    "arr = [3, 8, 10, 13, 14]\n",
    "print(insert(arr, idx, val))"
   ]
  },
  {
   "cell_type": "markdown",
   "metadata": {},
   "source": [
    "#### Remove"
   ]
  },
  {
   "cell_type": "code",
   "execution_count": 21,
   "metadata": {},
   "outputs": [
    {
     "name": "stdout",
     "output_type": "stream",
     "text": [
      "[1, 3, 5, 7]\n",
      "[1, 4, 8, 10]\n"
     ]
    }
   ],
   "source": [
    "def remove(arr, idx):\n",
    "    # best = O(1) @ end\n",
    "    if idx == len(arr)-1:\n",
    "        arr = arr[:-1]\n",
    "        return arr\n",
    "    # worst, avg = O(n) (need to shift)\n",
    "    elif idx < len(arr):\n",
    "        new_arr = [0] * (len(arr)-1)\n",
    "        i = 0\n",
    "        j = 0\n",
    "        while i < len(arr):\n",
    "            if i == idx:\n",
    "                new_arr[j] = arr[i+1]\n",
    "                i += 2\n",
    "                j += 1\n",
    "            else:\n",
    "                new_arr[j] = arr[i]\n",
    "                i += 1\n",
    "                j += 1\n",
    "\n",
    "        arr = new_arr\n",
    "        return arr\n",
    "    else:\n",
    "        return\n",
    "\n",
    "idx = 4\n",
    "arr = [1, 3, 5, 7, 9]\n",
    "print(remove(arr, idx))\n",
    "\n",
    "idx = 2\n",
    "arr = [1, 4, 6, 8, 10]\n",
    "print(remove(arr, idx))"
   ]
  }
 ],
 "metadata": {
  "kernelspec": {
   "display_name": "Python 3",
   "language": "python",
   "name": "python3"
  },
  "language_info": {
   "codemirror_mode": {
    "name": "ipython",
    "version": 3
   },
   "file_extension": ".py",
   "mimetype": "text/x-python",
   "name": "python",
   "nbconvert_exporter": "python",
   "pygments_lexer": "ipython3",
   "version": "3.12.5"
  }
 },
 "nbformat": 4,
 "nbformat_minor": 2
}
